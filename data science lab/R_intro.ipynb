{
 "cells": [
  {
   "cell_type": "markdown",
   "metadata": {
    "ein.tags": "worksheet-0",
    "slideshow": {
     "slide_type": "-"
    }
   },
   "source": [
    "# Data Science Lab, introduzione"
   ]
  },
  {
   "cell_type": "markdown",
   "metadata": {
    "ein.tags": "worksheet-0",
    "slideshow": {
     "slide_type": "-"
    }
   },
   "source": [
    "## Sommario"
   ]
  },
  {
   "cell_type": "markdown",
   "metadata": {
    "ein.tags": "worksheet-0",
    "slideshow": {
     "slide_type": "-"
    }
   },
   "source": [
    "Il corso sarà tenuto sia con R che con Python; l'esame sarà svolto con un progetto di gruppo (3-4 persone al massimo) su un dataset offerto dal docente (o proposto) fingendo di presentarlo ad un generico committente senza competenze statistiche.\n",
    "Si potrà scegliere il linguaggio usato (anche usarli entrambi)."
   ]
  },
  {
   "cell_type": "markdown",
   "metadata": {
    "ein.tags": "worksheet-0",
    "slideshow": {
     "slide_type": "-"
    }
   },
   "source": [
    "## Introduzione a R"
   ]
  },
  {
   "cell_type": "markdown",
   "metadata": {
    "ein.tags": "worksheet-0",
    "slideshow": {
     "slide_type": "-"
    }
   },
   "source": [
    "R, a differenza di Python, è stato pensato per l'analisi statistica; il gruppo di lavoro guidato da Wickham ha espanso il linguaggio programmando un pacchetto, `tidyverse`, per l'analisi di dati.\n",
    "Inoltre sono di aiuto anche i pacchetti `lubridate` e `tidyr`.\n",
    "Per ottimizzare il programma si può estendere con funzioni C++, inoltre col pacchetto `rcpp` si possono costruire delle interfacce tra i due programmi."
   ]
  },
  {
   "cell_type": "markdown",
   "metadata": {
    "ein.tags": "worksheet-0",
    "slideshow": {
     "slide_type": "-"
    }
   },
   "source": [
    "Per usare R, l'editor più usato è R-Studio; si usa anche Jupyter Notebook per programmare col kernel iR (installabile in locale, ma anche disponibile con Azure Notebooks o Kaggle)."
   ]
  },
  {
   "cell_type": "code",
   "execution_count": 1,
   "metadata": {
    "autoscroll": false,
    "ein.hycell": false,
    "ein.tags": "worksheet-0",
    "slideshow": {
     "slide_type": "-"
    }
   },
   "outputs": [],
   "source": [
    "set.seed(20190430)"
   ]
  },
  {
   "cell_type": "markdown",
   "metadata": {
    "ein.tags": "worksheet-0",
    "slideshow": {
     "slide_type": "-"
    }
   },
   "source": [
    "### Task 1, operazioni tra vettori"
   ]
  },
  {
   "cell_type": "markdown",
   "metadata": {
    "ein.tags": "worksheet-0",
    "slideshow": {
     "slide_type": "-"
    }
   },
   "source": [
    "Il linguaggio R non possiede l'elemento scalare ma solamente vettori; inoltre, essendo interpretato, è particolarmente lento sui cicli (tramite funzioni del tipo `apply`).\n",
    "Le variabili sono _dinamiche_, quindi il tipo è assegnato in modo dinamico.\n",
    "\n",
    "Ai vettori è possibile assegnare una _label_ per identificare i valori (come alternativa si possono usare i numeri indice, che partono da 1)."
   ]
  },
  {
   "cell_type": "markdown",
   "metadata": {
    "ein.tags": "worksheet-0",
    "slideshow": {
     "slide_type": "-"
    }
   },
   "source": [
    "Le matrici sono elementi diverse dai vettori: le operazioni lecite sono diverse."
   ]
  },
  {
   "cell_type": "code",
   "execution_count": 2,
   "metadata": {
    "autoscroll": false,
    "ein.hycell": false,
    "ein.tags": "worksheet-0",
    "slideshow": {
     "slide_type": "-"
    }
   },
   "outputs": [
    {
     "data": {
      "text/html": [
       "<table>\n",
       "<thead><tr><th></th><th scope=col>c1</th><th scope=col>c2</th><th scope=col>c3</th><th scope=col>c4</th><th scope=col>c5</th></tr></thead>\n",
       "<tbody>\n",
       "\t<tr><th scope=row>r1</th><td>0.695323335</td><td>0.23139219 </td><td>0.13497013 </td><td>0.6822604  </td><td>0.7272646  </td></tr>\n",
       "\t<tr><th scope=row>r2</th><td>0.824954963</td><td>0.11666554 </td><td>0.10351494 </td><td>0.3272514  </td><td>0.3006179  </td></tr>\n",
       "\t<tr><th scope=row>r3</th><td>0.890434546</td><td>0.04823888 </td><td>0.68804389 </td><td>0.2397110  </td><td>0.8519023  </td></tr>\n",
       "\t<tr><th scope=row>r4</th><td>0.483256648</td><td>0.66624832 </td><td>0.40957092 </td><td>0.1841599  </td><td>0.5131824  </td></tr>\n",
       "\t<tr><th scope=row>r5</th><td>0.002706723</td><td>0.53662882 </td><td>0.01377894 </td><td>0.8054028  </td><td>0.4103904  </td></tr>\n",
       "</tbody>\n",
       "</table>\n"
      ],
      "text/latex": [
       "\\begin{tabular}{r|lllll}\n",
       "  & c1 & c2 & c3 & c4 & c5\\\\\n",
       "\\hline\n",
       "\tr1 & 0.695323335 & 0.23139219  & 0.13497013  & 0.6822604   & 0.7272646  \\\\\n",
       "\tr2 & 0.824954963 & 0.11666554  & 0.10351494  & 0.3272514   & 0.3006179  \\\\\n",
       "\tr3 & 0.890434546 & 0.04823888  & 0.68804389  & 0.2397110   & 0.8519023  \\\\\n",
       "\tr4 & 0.483256648 & 0.66624832  & 0.40957092  & 0.1841599   & 0.5131824  \\\\\n",
       "\tr5 & 0.002706723 & 0.53662882  & 0.01377894  & 0.8054028   & 0.4103904  \\\\\n",
       "\\end{tabular}\n"
      ],
      "text/plain": [
       "   c1          c2         c3         c4        c5       \n",
       "r1 0.695323335 0.23139219 0.13497013 0.6822604 0.7272646\n",
       "r2 0.824954963 0.11666554 0.10351494 0.3272514 0.3006179\n",
       "r3 0.890434546 0.04823888 0.68804389 0.2397110 0.8519023\n",
       "r4 0.483256648 0.66624832 0.40957092 0.1841599 0.5131824\n",
       "r5 0.002706723 0.53662882 0.01377894 0.8054028 0.4103904"
      ]
     },
     "metadata": {},
     "output_type": "display_data"
    }
   ],
   "source": [
    "A <- matrix(runif(25), 5, 5,\n",
    "            dimnames = list(\n",
    "              paste0(\"r\", 1:5),\n",
    "              paste0(\"c\", 1:5)\n",
    "            ))\n",
    "A"
   ]
  },
  {
   "cell_type": "code",
   "execution_count": 3,
   "metadata": {
    "autoscroll": false,
    "ein.hycell": false,
    "ein.tags": "worksheet-0",
    "slideshow": {
     "slide_type": "-"
    }
   },
   "outputs": [
    {
     "data": {
      "text/html": [
       "<table>\n",
       "<thead><tr><th></th><th scope=col>c1</th><th scope=col>c2</th><th scope=col>c3</th><th scope=col>c4</th><th scope=col>c5</th></tr></thead>\n",
       "<tbody>\n",
       "\t<tr><th scope=row>c1</th><td>2.1904432</td><td>0.6235112</td><td>0.9898663</td><td>1.0489827</td><td>1.7613531</td></tr>\n",
       "\t<tr><th scope=row>c2</th><td>0.6235112</td><td>0.8013375</td><td>0.3567682</td><td>0.7625107</td><td>0.8065841</td></tr>\n",
       "\t<tr><th scope=row>c3</th><td>0.9898663</td><td>0.3567682</td><td>0.6702749</td><td>0.3774160</td><td>0.9312629</td></tr>\n",
       "\t<tr><th scope=row>c4</th><td>1.0489827</td><td>0.7625107</td><td>0.3774160</td><td>1.3126227</td><td>1.2238090</td></tr>\n",
       "\t<tr><th scope=row>c5</th><td>1.7613531</td><td>0.8065841</td><td>0.9312629</td><td>1.2238090</td><td>1.7767988</td></tr>\n",
       "</tbody>\n",
       "</table>\n"
      ],
      "text/latex": [
       "\\begin{tabular}{r|lllll}\n",
       "  & c1 & c2 & c3 & c4 & c5\\\\\n",
       "\\hline\n",
       "\tc1 & 2.1904432 & 0.6235112 & 0.9898663 & 1.0489827 & 1.7613531\\\\\n",
       "\tc2 & 0.6235112 & 0.8013375 & 0.3567682 & 0.7625107 & 0.8065841\\\\\n",
       "\tc3 & 0.9898663 & 0.3567682 & 0.6702749 & 0.3774160 & 0.9312629\\\\\n",
       "\tc4 & 1.0489827 & 0.7625107 & 0.3774160 & 1.3126227 & 1.2238090\\\\\n",
       "\tc5 & 1.7613531 & 0.8065841 & 0.9312629 & 1.2238090 & 1.7767988\\\\\n",
       "\\end{tabular}\n"
      ],
      "text/plain": [
       "   c1        c2        c3        c4        c5       \n",
       "c1 2.1904432 0.6235112 0.9898663 1.0489827 1.7613531\n",
       "c2 0.6235112 0.8013375 0.3567682 0.7625107 0.8065841\n",
       "c3 0.9898663 0.3567682 0.6702749 0.3774160 0.9312629\n",
       "c4 1.0489827 0.7625107 0.3774160 1.3126227 1.2238090\n",
       "c5 1.7613531 0.8065841 0.9312629 1.2238090 1.7767988"
      ]
     },
     "metadata": {},
     "output_type": "display_data"
    }
   ],
   "source": [
    "B <- t(A) %*% A\n",
    "B <- crossprod(A)  # più prestante di circa un ordine di grandezza\n",
    "B"
   ]
  },
  {
   "cell_type": "code",
   "execution_count": 4,
   "metadata": {
    "autoscroll": false,
    "ein.hycell": false,
    "ein.tags": "worksheet-0",
    "slideshow": {
     "slide_type": "-"
    }
   },
   "outputs": [
    {
     "data": {
      "text/html": [
       "<table>\n",
       "<tbody>\n",
       "\t<tr><td> 2.8438642</td><td> 0.6933958</td><td>  1.120850</td><td>  1.318596</td><td> -4.629588</td></tr>\n",
       "\t<tr><td> 0.6933958</td><td> 3.8871481</td><td> -5.268349</td><td> -4.431652</td><td>  3.361713</td></tr>\n",
       "\t<tr><td> 1.1208498</td><td>-5.2683489</td><td> 38.304965</td><td> 24.243938</td><td>-35.494614</td></tr>\n",
       "\t<tr><td> 1.3185956</td><td>-4.4316522</td><td> 24.243938</td><td> 18.169880</td><td>-24.517100</td></tr>\n",
       "\t<tr><td>-4.6295878</td><td> 3.3617126</td><td>-35.494614</td><td>-24.517100</td><td> 39.116359</td></tr>\n",
       "</tbody>\n",
       "</table>\n"
      ],
      "text/latex": [
       "\\begin{tabular}{lllll}\n",
       "\t  2.8438642 &  0.6933958 &   1.120850 &   1.318596 &  -4.629588\\\\\n",
       "\t  0.6933958 &  3.8871481 &  -5.268349 &  -4.431652 &   3.361713\\\\\n",
       "\t  1.1208498 & -5.2683489 &  38.304965 &  24.243938 & -35.494614\\\\\n",
       "\t  1.3185956 & -4.4316522 &  24.243938 &  18.169880 & -24.517100\\\\\n",
       "\t -4.6295878 &  3.3617126 & -35.494614 & -24.517100 &  39.116359\\\\\n",
       "\\end{tabular}\n"
      ],
      "text/plain": [
       "     [,1]       [,2]       [,3]       [,4]       [,5]      \n",
       "[1,]  2.8438642  0.6933958   1.120850   1.318596  -4.629588\n",
       "[2,]  0.6933958  3.8871481  -5.268349  -4.431652   3.361713\n",
       "[3,]  1.1208498 -5.2683489  38.304965  24.243938 -35.494614\n",
       "[4,]  1.3185956 -4.4316522  24.243938  18.169880 -24.517100\n",
       "[5,] -4.6295878  3.3617126 -35.494614 -24.517100  39.116359"
      ]
     },
     "metadata": {},
     "output_type": "display_data"
    }
   ],
   "source": [
    "library(MASS)\n",
    "C <- solve(B)  # ma siccome B è diagonizzabile facilmente perchè simmetrica...\n",
    "## Si diagonalizza B (Cholesky) e si calcola più facilmente l'inversa\n",
    "C <- chol2inv(chol(B))  # che ne raddoppia la velocità\n",
    "C"
   ]
  },
  {
   "cell_type": "code",
   "execution_count": 5,
   "metadata": {
    "autoscroll": false,
    "ein.hycell": false,
    "ein.tags": "worksheet-0",
    "slideshow": {
     "slide_type": "-"
    }
   },
   "outputs": [
    {
     "data": {
      "text/html": [
       "<dl class=dl-horizontal>\n",
       "\t<dt>c1</dt>\n",
       "\t\t<dd>0.579335242975503</dd>\n",
       "\t<dt>c2</dt>\n",
       "\t\t<dd>0.319834750331938</dd>\n",
       "\t<dt>c3</dt>\n",
       "\t\t<dd>0.269975761929527</dd>\n",
       "\t<dt>c4</dt>\n",
       "\t\t<dd>0.447757102083415</dd>\n",
       "\t<dt>c5</dt>\n",
       "\t\t<dd>0.560671509057283</dd>\n",
       "</dl>\n"
      ],
      "text/latex": [
       "\\begin{description*}\n",
       "\\item[c1] 0.579335242975503\n",
       "\\item[c2] 0.319834750331938\n",
       "\\item[c3] 0.269975761929527\n",
       "\\item[c4] 0.447757102083415\n",
       "\\item[c5] 0.560671509057283\n",
       "\\end{description*}\n"
      ],
      "text/plain": [
       "       c1        c2        c3        c4        c5 \n",
       "0.5793352 0.3198348 0.2699758 0.4477571 0.5606715 "
      ]
     },
     "metadata": {},
     "output_type": "display_data"
    }
   ],
   "source": [
    "apply(A, 2, mean)"
   ]
  },
  {
   "cell_type": "code",
   "execution_count": 6,
   "metadata": {
    "autoscroll": false,
    "ein.hycell": false,
    "ein.tags": "worksheet-0",
    "slideshow": {
     "slide_type": "-"
    }
   },
   "outputs": [
    {
     "data": {
      "text/html": [
       "<dl class=dl-horizontal>\n",
       "\t<dt>c1</dt>\n",
       "\t\t<dd>0.357874491813638</dd>\n",
       "\t<dt>c2</dt>\n",
       "\t\t<dd>0.269196099364485</dd>\n",
       "\t<dt>c3</dt>\n",
       "\t\t<dd>0.276514155421419</dd>\n",
       "\t<dt>c4</dt>\n",
       "\t\t<dd>0.278473759521757</dd>\n",
       "\t<dt>c5</dt>\n",
       "\t\t<dd>0.226404562766525</dd>\n",
       "</dl>\n"
      ],
      "text/latex": [
       "\\begin{description*}\n",
       "\\item[c1] 0.357874491813638\n",
       "\\item[c2] 0.269196099364485\n",
       "\\item[c3] 0.276514155421419\n",
       "\\item[c4] 0.278473759521757\n",
       "\\item[c5] 0.226404562766525\n",
       "\\end{description*}\n"
      ],
      "text/plain": [
       "       c1        c2        c3        c4        c5 \n",
       "0.3578745 0.2691961 0.2765142 0.2784738 0.2264046 "
      ]
     },
     "metadata": {},
     "output_type": "display_data"
    }
   ],
   "source": [
    "apply(A, 2, sd)"
   ]
  },
  {
   "cell_type": "code",
   "execution_count": 7,
   "metadata": {
    "autoscroll": false,
    "ein.hycell": false,
    "ein.tags": "worksheet-0",
    "slideshow": {
     "slide_type": "-"
    }
   },
   "outputs": [
    {
     "data": {
      "text/html": [
       "TRUE"
      ],
      "text/latex": [
       "TRUE"
      ],
      "text/plain": [
       "[1] TRUE"
      ]
     },
     "metadata": {},
     "output_type": "display_data"
    }
   ],
   "source": [
    "is.matrix(A[1, , drop=FALSE])"
   ]
  },
  {
   "cell_type": "markdown",
   "metadata": {
    "ein.tags": "worksheet-0",
    "slideshow": {
     "slide_type": "-"
    }
   },
   "source": [
    "Usando la matrice B come matrice di varianza-covarianza, si possono generare dei dati campionari con varianza e covarianza arbitrari: si moltiplica la matrice contenente gli errori alla fattorizzazione di Cholesky della matrice di varianza/covarianza."
   ]
  },
  {
   "cell_type": "code",
   "execution_count": 8,
   "metadata": {
    "autoscroll": false,
    "ein.hycell": false,
    "ein.tags": "worksheet-0",
    "slideshow": {
     "slide_type": "-"
    }
   },
   "outputs": [
    {
     "data": {
      "text/html": [
       "<table>\n",
       "<thead><tr><th></th><th scope=col>c1</th><th scope=col>c2</th><th scope=col>c3</th><th scope=col>c4</th><th scope=col>c5</th></tr></thead>\n",
       "<tbody>\n",
       "\t<tr><th scope=row>c1</th><td>0.0028 </td><td>0.0090 </td><td> 0.0084</td><td> 0.0180</td><td>0.0111 </td></tr>\n",
       "\t<tr><th scope=row>c2</th><td>0.0090 </td><td>0.0134 </td><td> 0.0091</td><td> 0.0031</td><td>0.0086 </td></tr>\n",
       "\t<tr><th scope=row>c3</th><td>0.0084 </td><td>0.0091 </td><td> 0.0045</td><td>-0.0003</td><td>0.0043 </td></tr>\n",
       "\t<tr><th scope=row>c4</th><td>0.0180 </td><td>0.0031 </td><td>-0.0003</td><td> 0.0345</td><td>0.0138 </td></tr>\n",
       "\t<tr><th scope=row>c5</th><td>0.0111 </td><td>0.0086 </td><td> 0.0043</td><td> 0.0138</td><td>0.0072 </td></tr>\n",
       "</tbody>\n",
       "</table>\n"
      ],
      "text/latex": [
       "\\begin{tabular}{r|lllll}\n",
       "  & c1 & c2 & c3 & c4 & c5\\\\\n",
       "\\hline\n",
       "\tc1 & 0.0028  & 0.0090  &  0.0084 &  0.0180 & 0.0111 \\\\\n",
       "\tc2 & 0.0090  & 0.0134  &  0.0091 &  0.0031 & 0.0086 \\\\\n",
       "\tc3 & 0.0084  & 0.0091  &  0.0045 & -0.0003 & 0.0043 \\\\\n",
       "\tc4 & 0.0180  & 0.0031  & -0.0003 &  0.0345 & 0.0138 \\\\\n",
       "\tc5 & 0.0111  & 0.0086  &  0.0043 &  0.0138 & 0.0072 \\\\\n",
       "\\end{tabular}\n"
      ],
      "text/plain": [
       "   c1     c2     c3      c4      c5    \n",
       "c1 0.0028 0.0090  0.0084  0.0180 0.0111\n",
       "c2 0.0090 0.0134  0.0091  0.0031 0.0086\n",
       "c3 0.0084 0.0091  0.0045 -0.0003 0.0043\n",
       "c4 0.0180 0.0031 -0.0003  0.0345 0.0138\n",
       "c5 0.0111 0.0086  0.0043  0.0138 0.0072"
      ]
     },
     "metadata": {},
     "output_type": "display_data"
    }
   ],
   "source": [
    "S <- B\n",
    "E <- matrix(rnorm(1000*5), 1000, 5)\n",
    "X <- E %*% chol(S)\n",
    "round(var(X) - S, 4)"
   ]
  },
  {
   "cell_type": "markdown",
   "metadata": {
    "ein.tags": "worksheet-0",
    "slideshow": {
     "slide_type": "-"
    }
   },
   "source": [
    "### Task 2, Data.frame"
   ]
  },
  {
   "cell_type": "markdown",
   "metadata": {
    "ein.tags": "worksheet-0",
    "slideshow": {
     "slide_type": "-"
    }
   },
   "source": [
    "La classe `data.frame` permette la gestione di tabelle di dati di tipi diversi: ogni colonna ha un tipo definito che può essere diverso da quello delle altre colonne."
   ]
  },
  {
   "cell_type": "code",
   "execution_count": 9,
   "metadata": {
    "autoscroll": false,
    "ein.hycell": false,
    "ein.tags": "worksheet-0",
    "slideshow": {
     "slide_type": "-"
    }
   },
   "outputs": [
    {
     "data": {
      "text/html": [
       "<table>\n",
       "<thead><tr><th scope=col>class</th><th scope=col>sex</th><th scope=col>age</th></tr></thead>\n",
       "<tbody>\n",
       "\t<tr><td>c </td><td>F </td><td>38</td></tr>\n",
       "\t<tr><td>c </td><td>M </td><td>50</td></tr>\n",
       "\t<tr><td>c </td><td>F </td><td>40</td></tr>\n",
       "\t<tr><td>a </td><td>F </td><td>43</td></tr>\n",
       "\t<tr><td>d </td><td>F </td><td>39</td></tr>\n",
       "\t<tr><td>d </td><td>F </td><td>38</td></tr>\n",
       "</tbody>\n",
       "</table>\n"
      ],
      "text/latex": [
       "\\begin{tabular}{r|lll}\n",
       " class & sex & age\\\\\n",
       "\\hline\n",
       "\t c  & F  & 38\\\\\n",
       "\t c  & M  & 50\\\\\n",
       "\t c  & F  & 40\\\\\n",
       "\t a  & F  & 43\\\\\n",
       "\t d  & F  & 39\\\\\n",
       "\t d  & F  & 38\\\\\n",
       "\\end{tabular}\n"
      ],
      "text/plain": [
       "  class sex age\n",
       "1 c     F   38 \n",
       "2 c     M   50 \n",
       "3 c     F   40 \n",
       "4 a     F   43 \n",
       "5 d     F   39 \n",
       "6 d     F   38 "
      ]
     },
     "metadata": {},
     "output_type": "display_data"
    }
   ],
   "source": [
    "df <- data.frame(\n",
    "  class = sample(letters[1:4], 100, TRUE),\n",
    "  sex   = sample(c(\"M\", \"F\"), 100, TRUE),\n",
    "  age   = rpois(100, 40))\n",
    "head(df)"
   ]
  },
  {
   "cell_type": "code",
   "execution_count": 10,
   "metadata": {
    "autoscroll": false,
    "ein.hycell": false,
    "ein.tags": "worksheet-0",
    "slideshow": {
     "slide_type": "-"
    }
   },
   "outputs": [
    {
     "data": {
      "text/plain": [
       " class  sex         age       \n",
       " a:20   F:55   Min.   :24.00  \n",
       " b:30   M:45   1st Qu.:37.00  \n",
       " c:25          Median :40.00  \n",
       " d:25          Mean   :40.17  \n",
       "               3rd Qu.:44.00  \n",
       "               Max.   :58.00  "
      ]
     },
     "metadata": {},
     "output_type": "display_data"
    }
   ],
   "source": [
    "summary(df)"
   ]
  },
  {
   "cell_type": "code",
   "execution_count": 11,
   "metadata": {
    "autoscroll": false,
    "ein.hycell": false,
    "ein.tags": "worksheet-0",
    "slideshow": {
     "slide_type": "-"
    }
   },
   "outputs": [
    {
     "data": {
      "text/plain": [
       "df$class: a\n",
       "[1] 39.4\n",
       "------------------------------------------------------------ \n",
       "df$class: b\n",
       "[1] 40.06667\n",
       "------------------------------------------------------------ \n",
       "df$class: c\n",
       "[1] 40.72\n",
       "------------------------------------------------------------ \n",
       "df$class: d\n",
       "[1] 40.36"
      ]
     },
     "metadata": {},
     "output_type": "display_data"
    }
   ],
   "source": [
    "## tapply(df$age, df$class, mean)  # oppure, con un approccio più OO\n",
    "by(df$age, df$class, mean)"
   ]
  },
  {
   "cell_type": "code",
   "execution_count": 12,
   "metadata": {
    "autoscroll": false,
    "ein.hycell": false,
    "ein.tags": "worksheet-0",
    "slideshow": {
     "slide_type": "-"
    }
   },
   "outputs": [
    {
     "data": {
      "text/plain": [
       "   \n",
       "     F  M\n",
       "  a 12  8\n",
       "  b 17 13\n",
       "  c 17  8\n",
       "  d  9 16"
      ]
     },
     "metadata": {},
     "output_type": "display_data"
    }
   ],
   "source": [
    "ct <- table(df$class, df$sex)\n",
    "ct"
   ]
  },
  {
   "cell_type": "code",
   "execution_count": 13,
   "metadata": {
    "autoscroll": false,
    "ein.hycell": false,
    "ein.tags": "worksheet-0",
    "slideshow": {
     "slide_type": "-"
    }
   },
   "outputs": [
    {
     "data": {
      "text/html": [
       "<table>\n",
       "<thead><tr><th></th><th scope=col>F</th><th scope=col>M</th><th scope=col>Sum</th></tr></thead>\n",
       "<tbody>\n",
       "\t<tr><th scope=row>a</th><td>12 </td><td> 8 </td><td> 20</td></tr>\n",
       "\t<tr><th scope=row>b</th><td>17 </td><td>13 </td><td> 30</td></tr>\n",
       "\t<tr><th scope=row>c</th><td>17 </td><td> 8 </td><td> 25</td></tr>\n",
       "\t<tr><th scope=row>d</th><td> 9 </td><td>16 </td><td> 25</td></tr>\n",
       "\t<tr><th scope=row>Sum</th><td>55 </td><td>45 </td><td>100</td></tr>\n",
       "</tbody>\n",
       "</table>\n"
      ],
      "text/latex": [
       "\\begin{tabular}{r|lll}\n",
       "  & F & M & Sum\\\\\n",
       "\\hline\n",
       "\ta & 12  &  8  &  20\\\\\n",
       "\tb & 17  & 13  &  30\\\\\n",
       "\tc & 17  &  8  &  25\\\\\n",
       "\td &  9  & 16  &  25\\\\\n",
       "\tSum & 55  & 45  & 100\\\\\n",
       "\\end{tabular}\n"
      ],
      "text/plain": [
       "     \n",
       "      F  M  Sum\n",
       "  a   12  8  20\n",
       "  b   17 13  30\n",
       "  c   17  8  25\n",
       "  d    9 16  25\n",
       "  Sum 55 45 100"
      ]
     },
     "metadata": {},
     "output_type": "display_data"
    }
   ],
   "source": [
    "addmargins(ct)"
   ]
  },
  {
   "cell_type": "code",
   "execution_count": 14,
   "metadata": {
    "autoscroll": false,
    "ein.hycell": false,
    "ein.tags": "worksheet-0",
    "slideshow": {
     "slide_type": "-"
    }
   },
   "outputs": [
    {
     "data": {
      "text/plain": [
       "   \n",
       "       F    M\n",
       "  a 0.12 0.08\n",
       "  b 0.17 0.13\n",
       "  c 0.17 0.08\n",
       "  d 0.09 0.16"
      ]
     },
     "metadata": {},
     "output_type": "display_data"
    }
   ],
   "source": [
    "prop.table(ct)"
   ]
  },
  {
   "cell_type": "code",
   "execution_count": 15,
   "metadata": {
    "autoscroll": false,
    "ein.hycell": false,
    "ein.tags": "worksheet-0",
    "slideshow": {
     "slide_type": "-"
    }
   },
   "outputs": [
    {
     "data": {
      "text/html": [
       "<table>\n",
       "<thead><tr><th></th><th scope=col>F</th><th scope=col>M</th><th scope=col>Sum</th></tr></thead>\n",
       "<tbody>\n",
       "\t<tr><th scope=row>a</th><td>0.12</td><td>0.08</td><td>0.20</td></tr>\n",
       "\t<tr><th scope=row>b</th><td>0.17</td><td>0.13</td><td>0.30</td></tr>\n",
       "\t<tr><th scope=row>c</th><td>0.17</td><td>0.08</td><td>0.25</td></tr>\n",
       "\t<tr><th scope=row>d</th><td>0.09</td><td>0.16</td><td>0.25</td></tr>\n",
       "\t<tr><th scope=row>Sum</th><td>0.55</td><td>0.45</td><td>1.00</td></tr>\n",
       "</tbody>\n",
       "</table>\n"
      ],
      "text/latex": [
       "\\begin{tabular}{r|lll}\n",
       "  & F & M & Sum\\\\\n",
       "\\hline\n",
       "\ta & 0.12 & 0.08 & 0.20\\\\\n",
       "\tb & 0.17 & 0.13 & 0.30\\\\\n",
       "\tc & 0.17 & 0.08 & 0.25\\\\\n",
       "\td & 0.09 & 0.16 & 0.25\\\\\n",
       "\tSum & 0.55 & 0.45 & 1.00\\\\\n",
       "\\end{tabular}\n"
      ],
      "text/plain": [
       "     \n",
       "      F    M    Sum \n",
       "  a   0.12 0.08 0.20\n",
       "  b   0.17 0.13 0.30\n",
       "  c   0.17 0.08 0.25\n",
       "  d   0.09 0.16 0.25\n",
       "  Sum 0.55 0.45 1.00"
      ]
     },
     "metadata": {},
     "output_type": "display_data"
    }
   ],
   "source": [
    "addmargins(prop.table(ct))"
   ]
  },
  {
   "cell_type": "code",
   "execution_count": 16,
   "metadata": {
    "autoscroll": false,
    "ein.hycell": false,
    "ein.tags": "worksheet-0",
    "slideshow": {
     "slide_type": "-"
    }
   },
   "outputs": [
    {
     "data": {
      "text/plain": [
       "Number of cases in table: 100 \n",
       "Number of factors: 2 \n",
       "Test for independence of all factors:\n",
       "\tChisq = 5.589, df = 3, p-value = 0.1334"
      ]
     },
     "metadata": {},
     "output_type": "display_data"
    }
   ],
   "source": [
    "summary(ct)"
   ]
  },
  {
   "cell_type": "markdown",
   "metadata": {
    "ein.tags": "worksheet-0",
    "slideshow": {
     "slide_type": "-"
    }
   },
   "source": [
    "### Stringhe"
   ]
  },
  {
   "cell_type": "markdown",
   "metadata": {
    "ein.tags": "worksheet-0",
    "slideshow": {
     "slide_type": "-"
    }
   },
   "source": [
    "Le stringhe sono gestite in R come array di caratteri "
   ]
  },
  {
   "cell_type": "code",
   "execution_count": 17,
   "metadata": {
    "autoscroll": false,
    "ein.hycell": false,
    "ein.tags": "worksheet-0",
    "slideshow": {
     "slide_type": "-"
    }
   },
   "outputs": [
    {
     "data": {
      "text/html": [
       "'data science is cool'"
      ],
      "text/latex": [
       "'data science is cool'"
      ],
      "text/plain": [
       "[1] \"data science is cool\""
      ]
     },
     "metadata": {},
     "output_type": "display_data"
    }
   ],
   "source": [
    "a <- \"data science is cool\"\n",
    "a"
   ]
  },
  {
   "cell_type": "code",
   "execution_count": 18,
   "metadata": {
    "autoscroll": false,
    "ein.hycell": false,
    "ein.tags": "worksheet-0",
    "slideshow": {
     "slide_type": "-"
    }
   },
   "outputs": [
    {
     "data": {
      "text/html": [
       "<ol class=list-inline>\n",
       "\t<li>'data'</li>\n",
       "\t<li>'science'</li>\n",
       "\t<li>'is'</li>\n",
       "\t<li>'cool'</li>\n",
       "</ol>\n"
      ],
      "text/latex": [
       "\\begin{enumerate*}\n",
       "\\item 'data'\n",
       "\\item 'science'\n",
       "\\item 'is'\n",
       "\\item 'cool'\n",
       "\\end{enumerate*}\n"
      ],
      "text/plain": [
       "[1] \"data\"    \"science\" \"is\"      \"cool\"   "
      ]
     },
     "metadata": {},
     "output_type": "display_data"
    }
   ],
   "source": [
    "b <- strsplit(a, \" \", fixed = TRUE)[[1]]  # fixed = FALSE per usare regex\n",
    "b"
   ]
  },
  {
   "cell_type": "code",
   "execution_count": 19,
   "metadata": {
    "autoscroll": false,
    "ein.hycell": false,
    "ein.tags": "worksheet-0",
    "slideshow": {
     "slide_type": "-"
    }
   },
   "outputs": [
    {
     "data": {
      "text/html": [
       "<ol class=list-inline>\n",
       "\t<li>4</li>\n",
       "\t<li>7</li>\n",
       "\t<li>2</li>\n",
       "\t<li>4</li>\n",
       "</ol>\n"
      ],
      "text/latex": [
       "\\begin{enumerate*}\n",
       "\\item 4\n",
       "\\item 7\n",
       "\\item 2\n",
       "\\item 4\n",
       "\\end{enumerate*}\n"
      ],
      "text/plain": [
       "[1] 4 7 2 4"
      ]
     },
     "metadata": {},
     "output_type": "display_data"
    }
   ],
   "source": [
    "nchar(b)"
   ]
  },
  {
   "cell_type": "code",
   "execution_count": 20,
   "metadata": {
    "autoscroll": false,
    "ein.hycell": false,
    "ein.tags": "worksheet-0",
    "slideshow": {
     "slide_type": "-"
    }
   },
   "outputs": [
    {
     "data": {
      "text/html": [
       "1"
      ],
      "text/latex": [
       "1"
      ],
      "text/plain": [
       "[1] 1"
      ]
     },
     "metadata": {},
     "output_type": "display_data"
    }
   ],
   "source": [
    "grep(\"a\", b, fixed = TRUE)"
   ]
  },
  {
   "cell_type": "markdown",
   "metadata": {
    "ein.tags": "worksheet-0",
    "slideshow": {
     "slide_type": "-"
    }
   },
   "source": [
    "### Iris"
   ]
  },
  {
   "cell_type": "code",
   "execution_count": 21,
   "metadata": {
    "autoscroll": false,
    "ein.hycell": false,
    "ein.tags": "worksheet-0",
    "slideshow": {
     "slide_type": "-"
    }
   },
   "outputs": [
    {
     "name": "stderr",
     "output_type": "stream",
     "text": [
      "\n",
      "Attaching package: ‘dplyr’\n",
      "\n",
      "The following object is masked from ‘package:MASS’:\n",
      "\n",
      "    select\n",
      "\n",
      "The following objects are masked from ‘package:stats’:\n",
      "\n",
      "    filter, lag\n",
      "\n",
      "The following objects are masked from ‘package:base’:\n",
      "\n",
      "    intersect, setdiff, setequal, union\n",
      "\n"
     ]
    }
   ],
   "source": [
    "library(dplyr)"
   ]
  },
  {
   "cell_type": "code",
   "execution_count": 22,
   "metadata": {
    "autoscroll": false,
    "ein.hycell": false,
    "ein.tags": "worksheet-0",
    "slideshow": {
     "slide_type": "-"
    }
   },
   "outputs": [],
   "source": [
    "data(iris)\n",
    "iris$Sepal.Product <- iris$Sepal.Length * iris$Sepal.Width\n",
    "ir <- iris[, -6]"
   ]
  },
  {
   "cell_type": "markdown",
   "metadata": {
    "ein.tags": "worksheet-0",
    "slideshow": {
     "slide_type": "-"
    }
   },
   "source": [
    "Si può usare l'oggetto `tibble` in alternativa al `data.frame`, dal pacchetto `tidyverse`.\n",
    "`tibble` è incentrato sulla facilità d'uso, alternativa più prestante è `data.table`."
   ]
  },
  {
   "cell_type": "code",
   "execution_count": 23,
   "metadata": {
    "autoscroll": false,
    "ein.hycell": false,
    "ein.tags": "worksheet-0",
    "slideshow": {
     "slide_type": "-"
    }
   },
   "outputs": [],
   "source": [
    "ir %>%\n",
    "  mutate(Sepal.Product = Sepal.Length * Sepal.Width) -> ir\n",
    "ir %>% select(-Sepal.Product) -> ir"
   ]
  },
  {
   "cell_type": "code",
   "execution_count": 24,
   "metadata": {
    "autoscroll": false,
    "ein.hycell": false,
    "ein.tags": "worksheet-0",
    "slideshow": {
     "slide_type": "-"
    }
   },
   "outputs": [],
   "source": [
    "iris2 <- with(iris, iris[Petal.Length >= 1 &\n",
    "                         Petal.Length <= 2,])\n",
    "ir %>% filter(Petal.Length >= 1,\n",
    "              Petal.Length <= 2) -> ir2"
   ]
  },
  {
   "cell_type": "code",
   "execution_count": 25,
   "metadata": {
    "autoscroll": false,
    "ein.hycell": false,
    "ein.tags": "worksheet-0",
    "slideshow": {
     "slide_type": "-"
    }
   },
   "outputs": [
    {
     "data": {
      "text/plain": [
       "iris$Species: setosa\n",
       " Sepal.Length   Sepal.Width  Petal.Length   Petal.Width Sepal.Product \n",
       "       5.0060        3.4280        1.4620        0.2460       17.2578 \n",
       "------------------------------------------------------------ \n",
       "iris$Species: versicolor\n",
       " Sepal.Length   Sepal.Width  Petal.Length   Petal.Width Sepal.Product \n",
       "       5.9360        2.7700        4.2600        1.3260       16.5262 \n",
       "------------------------------------------------------------ \n",
       "iris$Species: virginica\n",
       " Sepal.Length   Sepal.Width  Petal.Length   Petal.Width Sepal.Product \n",
       "       6.5880        2.9740        5.5520        2.0260       19.6846 "
      ]
     },
     "metadata": {},
     "output_type": "display_data"
    }
   ],
   "source": [
    "by(iris[,-5], iris$Species, colMeans)"
   ]
  },
  {
   "cell_type": "code",
   "execution_count": 26,
   "metadata": {
    "autoscroll": false,
    "ein.hycell": false,
    "ein.tags": "worksheet-0",
    "slideshow": {
     "slide_type": "-"
    }
   },
   "outputs": [
    {
     "data": {
      "text/html": [
       "<table>\n",
       "<thead><tr><th scope=col>Species</th><th scope=col>mean.Sepal.Length</th><th scope=col>mean.Sepal.Width</th><th scope=col>mean.Petal.Length</th><th scope=col>mean.Petal.Width</th></tr></thead>\n",
       "<tbody>\n",
       "\t<tr><td>setosa    </td><td>5.006     </td><td>3.428     </td><td>1.462     </td><td>0.246     </td></tr>\n",
       "\t<tr><td>versicolor</td><td>5.936     </td><td>2.770     </td><td>4.260     </td><td>1.326     </td></tr>\n",
       "\t<tr><td>virginica </td><td>6.588     </td><td>2.974     </td><td>5.552     </td><td>2.026     </td></tr>\n",
       "</tbody>\n",
       "</table>\n"
      ],
      "text/latex": [
       "\\begin{tabular}{r|lllll}\n",
       " Species & mean.Sepal.Length & mean.Sepal.Width & mean.Petal.Length & mean.Petal.Width\\\\\n",
       "\\hline\n",
       "\t setosa     & 5.006      & 3.428      & 1.462      & 0.246     \\\\\n",
       "\t versicolor & 5.936      & 2.770      & 4.260      & 1.326     \\\\\n",
       "\t virginica  & 6.588      & 2.974      & 5.552      & 2.026     \\\\\n",
       "\\end{tabular}\n"
      ],
      "text/plain": [
       "  Species    mean.Sepal.Length mean.Sepal.Width mean.Petal.Length\n",
       "1 setosa     5.006             3.428            1.462            \n",
       "2 versicolor 5.936             2.770            4.260            \n",
       "3 virginica  6.588             2.974            5.552            \n",
       "  mean.Petal.Width\n",
       "1 0.246           \n",
       "2 1.326           \n",
       "3 2.026           "
      ]
     },
     "metadata": {},
     "output_type": "display_data"
    }
   ],
   "source": [
    "ir %>% group_by(Species) %>%\n",
    "  summarise(mean.Sepal.Length = mean(Sepal.Length),\n",
    "            mean.Sepal.Width  = mean(Sepal.Width),\n",
    "            mean.Petal.Length = mean(Petal.Length),\n",
    "            mean.Petal.Width  = mean(Petal.Width))"
   ]
  },
  {
   "cell_type": "code",
   "execution_count": 27,
   "metadata": {
    "autoscroll": false,
    "ein.hycell": false,
    "ein.tags": "worksheet-0",
    "slideshow": {
     "slide_type": "-"
    }
   },
   "outputs": [
    {
     "data": {
      "text/plain": [
       "$setosa\n",
       "\n",
       "Call:\n",
       "lm(formula = Sepal.Length ~ ., data = x)\n",
       "\n",
       "Residuals:\n",
       "     Min       1Q   Median       3Q      Max \n",
       "-0.13995 -0.01782  0.01004  0.02688  0.05630 \n",
       "\n",
       "Coefficients:\n",
       "               Estimate Std. Error t value Pr(>|t|)    \n",
       "(Intercept)    4.808294   0.098935  48.600   <2e-16 ***\n",
       "Sepal.Width   -1.364911   0.058172 -23.463   <2e-16 ***\n",
       "Petal.Length   0.077750   0.038470   2.021   0.0492 *  \n",
       "Petal.Width   -0.026959   0.064188  -0.420   0.6765    \n",
       "Sepal.Product  0.276373   0.007613  36.302   <2e-16 ***\n",
       "---\n",
       "Signif. codes:  0 ‘***’ 0.001 ‘**’ 0.01 ‘*’ 0.05 ‘.’ 0.1 ‘ ’ 1\n",
       "\n",
       "Residual standard error: 0.04357 on 45 degrees of freedom\n",
       "Multiple R-squared:  0.986,\tAdjusted R-squared:  0.9847 \n",
       "F-statistic: 790.7 on 4 and 45 DF,  p-value: < 2.2e-16\n",
       "\n",
       "\n",
       "$versicolor\n",
       "\n",
       "Call:\n",
       "lm(formula = Sepal.Length ~ ., data = x)\n",
       "\n",
       "Residuals:\n",
       "      Min        1Q    Median        3Q       Max \n",
       "-0.203540 -0.021560  0.006672  0.031475  0.100906 \n",
       "\n",
       "Coefficients:\n",
       "               Estimate Std. Error t value Pr(>|t|)    \n",
       "(Intercept)    5.518243   0.122945  44.884   <2e-16 ***\n",
       "Sepal.Width   -1.997918   0.068110 -29.334   <2e-16 ***\n",
       "Petal.Length   0.088205   0.034124   2.585   0.0131 *  \n",
       "Petal.Width   -0.008922   0.074044  -0.120   0.9046    \n",
       "Sepal.Product  0.338134   0.008376  40.369   <2e-16 ***\n",
       "---\n",
       "Signif. codes:  0 ‘***’ 0.001 ‘**’ 0.01 ‘*’ 0.05 ‘.’ 0.1 ‘ ’ 1\n",
       "\n",
       "Residual standard error: 0.05549 on 45 degrees of freedom\n",
       "Multiple R-squared:  0.9894,\tAdjusted R-squared:  0.9884 \n",
       "F-statistic:  1049 on 4 and 45 DF,  p-value: < 2.2e-16\n",
       "\n",
       "\n",
       "$virginica\n",
       "\n",
       "Call:\n",
       "lm(formula = Sepal.Length ~ ., data = x)\n",
       "\n",
       "Residuals:\n",
       "     Min       1Q   Median       3Q      Max \n",
       "-0.24763 -0.02057  0.02177  0.05418  0.09278 \n",
       "\n",
       "Coefficients:\n",
       "              Estimate Std. Error t value Pr(>|t|)    \n",
       "(Intercept)    6.36602    0.26797  23.756   <2e-16 ***\n",
       "Sepal.Width   -2.23876    0.11317 -19.782   <2e-16 ***\n",
       "Petal.Length   0.05091    0.04323   1.178   0.2452    \n",
       "Petal.Width    0.09963    0.05332   1.868   0.0682 .  \n",
       "Sepal.Product  0.32490    0.01308  24.841   <2e-16 ***\n",
       "---\n",
       "Signif. codes:  0 ‘***’ 0.001 ‘**’ 0.01 ‘*’ 0.05 ‘.’ 0.1 ‘ ’ 1\n",
       "\n",
       "Residual standard error: 0.08382 on 45 degrees of freedom\n",
       "Multiple R-squared:  0.984,\tAdjusted R-squared:  0.9826 \n",
       "F-statistic: 693.7 on 4 and 45 DF,  p-value: < 2.2e-16\n",
       "\n"
      ]
     },
     "metadata": {},
     "output_type": "display_data"
    }
   ],
   "source": [
    "reg <- by(iris[, -5], iris[,5], function(x) {\n",
    "  lm(Sepal.Length ~ ., x)\n",
    "})\n",
    "lapply(reg, summary)"
   ]
  },
  {
   "cell_type": "markdown",
   "metadata": {
    "ein.tags": "worksheet-0",
    "slideshow": {
     "slide_type": "-"
    }
   },
   "source": [
    "### Grafici"
   ]
  },
  {
   "cell_type": "markdown",
   "metadata": {
    "ein.tags": "worksheet-0",
    "slideshow": {
     "slide_type": "-"
    }
   },
   "source": [
    "Si disegna un grafico `lunghezza sepali vs. lunghezza petali` evidenziando la retta interpolante."
   ]
  },
  {
   "cell_type": "code",
   "execution_count": 28,
   "metadata": {
    "autoscroll": false,
    "ein.hycell": false,
    "ein.tags": "worksheet-0",
    "slideshow": {
     "slide_type": "-"
    }
   },
   "outputs": [
    {
     "data": {
      "image/png": "[encoded data removed]",
      "text/plain": [
       "Plot with title “Sepal”"
      ]
     },
     "metadata": {},
     "output_type": "display_data"
    }
   ],
   "source": [
    "plot(iris$Sepal.Length ~ iris$Petal.Length,\n",
    "     col=iris$Species,\n",
    "     main=\"Sepal\",\n",
    "     xlab=\"Petal length\",\n",
    "     ylab=\"Sepal length\")\n",
    "abline(lm(Sepal.Length ~ Petal.Length,\n",
    "          iris[iris$Species==\"setosa\",]),\n",
    "       col=1)\n",
    "abline(lm(Sepal.Length ~ Petal.Length,\n",
    "           iris[iris$Species==\"versicolor\",]),\n",
    "       col=2)\n",
    "abline(lm(Sepal.Length ~ Petal.Length,\n",
    "          iris[iris$Species==\"virginica\",]),\n",
    "       col=3)"
   ]
  },
  {
   "cell_type": "markdown",
   "metadata": {
    "ein.tags": "worksheet-0",
    "slideshow": {
     "slide_type": "-"
    }
   },
   "source": [
    "È possibile allo stesso modo costruire il grafico con la libreria `ggplot2`."
   ]
  },
  {
   "cell_type": "code",
   "execution_count": 29,
   "metadata": {
    "autoscroll": false,
    "ein.hycell": false,
    "ein.tags": "worksheet-0",
    "slideshow": {
     "slide_type": "-"
    }
   },
   "outputs": [],
   "source": [
    "library(ggplot2)"
   ]
  },
  {
   "cell_type": "code",
   "execution_count": 30,
   "metadata": {
    "autoscroll": false,
    "ein.hycell": false,
    "ein.tags": "worksheet-0",
    "slideshow": {
     "slide_type": "-"
    }
   },
   "outputs": [
    {
     "data": {},
     "metadata": {},
     "output_type": "display_data"
    },
    {
     "data": {
      "image/png": "[encoded data removed]",
      "text/plain": [
       "plot without title"
      ]
     },
     "metadata": {},
     "output_type": "display_data"
    }
   ],
   "source": [
    "ggplot(data=iris,\n",
    "       aes(x=Petal.Length,\n",
    "           y=Sepal.Length,\n",
    "           color=Species)) +\n",
    "  geom_point() +\n",
    "  geom_smooth(method=\"lm\")"
   ]
  },
  {
   "cell_type": "markdown",
   "metadata": {
    "ein.tags": "worksheet-0",
    "slideshow": {
     "slide_type": "-"
    }
   },
   "source": [
    "Per evidenziare la differenza di lunghezza del petalo tra le varie specie si costruisce un altro grafico."
   ]
  },
  {
   "cell_type": "code",
   "execution_count": 31,
   "metadata": {
    "autoscroll": false,
    "ein.hycell": false,
    "ein.tags": "worksheet-0",
    "slideshow": {
     "slide_type": "-"
    }
   },
   "outputs": [
    {
     "data": {
      "image/png": "[encoded data removed]",
      "text/plain": [
       "plot without title"
      ]
     },
     "metadata": {},
     "output_type": "display_data"
    }
   ],
   "source": [
    "plot(iris$Sepal.Length ~ iris$Species)"
   ]
  },
  {
   "cell_type": "code",
   "execution_count": 32,
   "metadata": {
    "autoscroll": false,
    "ein.hycell": false,
    "ein.tags": "worksheet-0",
    "slideshow": {
     "slide_type": "-"
    }
   },
   "outputs": [
    {
     "data": {},
     "metadata": {},
     "output_type": "display_data"
    },
    {
     "data": {
      "image/png": "[encoded data removed]",
      "text/plain": [
       "plot without title"
      ]
     },
     "metadata": {},
     "output_type": "display_data"
    }
   ],
   "source": [
    "ggplot(data=iris,\n",
    "       aes(x=Species,\n",
    "           y=Sepal.Length)) +\n",
    "  geom_boxplot()"
   ]
  },
  {
   "cell_type": "code",
   "execution_count": 33,
   "metadata": {
    "autoscroll": false,
    "ein.hycell": false,
    "ein.tags": "worksheet-0",
    "slideshow": {
     "slide_type": "-"
    }
   },
   "outputs": [
    {
     "data": {
      "image/png": "[encoded data removed]",
      "text/plain": [
       "plot without title"
      ]
     },
     "metadata": {},
     "output_type": "display_data"
    }
   ],
   "source": [
    "barplot(tapply(iris$Sepal.Length, iris$Species, mean))"
   ]
  },
  {
   "cell_type": "code",
   "execution_count": 34,
   "metadata": {
    "autoscroll": false,
    "ein.hycell": false,
    "ein.tags": "worksheet-0",
    "slideshow": {
     "slide_type": "-"
    }
   },
   "outputs": [
    {
     "data": {},
     "metadata": {},
     "output_type": "display_data"
    },
    {
     "data": {
      "image/png": "[encoded data removed]",
      "text/plain": [
       "plot without title"
      ]
     },
     "metadata": {},
     "output_type": "display_data"
    }
   ],
   "source": [
    "ggplot(data=iris,\n",
    "       aes(x=Species,\n",
    "           y=Sepal.Length)) +\n",
    "  geom_col()"
   ]
  },
  {
   "cell_type": "markdown",
   "metadata": {
    "ein.tags": "worksheet-0",
    "slideshow": {
     "slide_type": "-"
    }
   },
   "source": [
    "### Definizione classi e oggetti"
   ]
  },
  {
   "cell_type": "markdown",
   "metadata": {
    "ein.tags": "worksheet-0",
    "slideshow": {
     "slide_type": "-"
    }
   },
   "source": [
    "La regressione lineare prevede la stima dei coefficienti $\\hat{\\beta} = (X^{\\prime}X)^{-1} X^{\\prime} y$ con $\\hat{\\beta} \\sim N(\\beta, \\sigma^2(X^{\\prime} X)^-1)$ (con $\\sigma^2 = \\frac{1}{n}\\sum(y - \\hat{y})^2$, anche se di fatto si usa la stima _corretta_ $\\hat{s}^2 = \\frac{1}{n-k}\\sum(y - \\hat{y})^2$)."
   ]
  },
  {
   "cell_type": "code",
   "execution_count": 35,
   "metadata": {
    "autoscroll": false,
    "ein.hycell": false,
    "ein.tags": "worksheet-0",
    "slideshow": {
     "slide_type": "-"
    }
   },
   "outputs": [],
   "source": [
    "reg <- function(y, x, intercept=TRUE) {\n",
    "  if (intercept) {\n",
    "    x <- cbind(Intercept=1, x)\n",
    "  }\n",
    "  x <- as.matrix(x)\n",
    "  y <- as.matrix(y)\n",
    "  ## p×n n×p\n",
    "  tXX <- crossprod(x)\n",
    "  B <- chol2inv(chol(tXX)) %*% crossprod(x, y)\n",
    "  rownames(B) <- colnames(x)\n",
    "  y.hat <- x %*% B\n",
    "  e <- y - y.hat\n",
    "  df <- length(y) - ncol(x)\n",
    "  s2 <- sum(e^2) / df\n",
    "  covar <- s2 * tXX\n",
    "  structure(list(coefficients=B,\n",
    "                 y=y,\n",
    "                 x=x,\n",
    "                 residuals=e,\n",
    "                 fitted.values=y.hat,\n",
    "                 covariance=covar,\n",
    "                 df=df),\n",
    "            class=\"reg\")\n",
    "}"
   ]
  },
  {
   "cell_type": "code",
   "execution_count": 36,
   "metadata": {
    "autoscroll": false,
    "ein.hycell": false,
    "ein.tags": "worksheet-0",
    "slideshow": {
     "slide_type": "-"
    }
   },
   "outputs": [
    {
     "data": {
      "text/html": [
       "<table>\n",
       "<tbody>\n",
       "\t<tr><td>0.926613</td></tr>\n",
       "</tbody>\n",
       "</table>\n"
      ],
      "text/latex": [
       "\\begin{tabular}{l}\n",
       "\t 0.926613\\\\\n",
       "\\end{tabular}\n"
      ],
      "text/plain": [
       "     [,1]    \n",
       "[1,] 0.926613"
      ]
     },
     "metadata": {},
     "output_type": "display_data"
    },
    {
     "data": {},
     "metadata": {},
     "output_type": "display_data"
    },
    {
     "data": {
      "image/png": "[encoded data removed]",
      "text/plain": [
       "plot without title"
      ]
     },
     "metadata": {},
     "output_type": "display_data"
    }
   ],
   "source": [
    "mod <- reg(iris$Sepal.Length, iris[,2:4])\n",
    "cor(iris$Sepal.Length, mod$fitted.values)\n",
    "ggplot() +\n",
    "  geom_point(aes(x=mod$fitted.values,\n",
    "                 y=iris$Sepal.Length)) +\n",
    "  geom_abline() +\n",
    "  xlab(\"Fitted values\") +\n",
    "  ylab(\"Real values\")"
   ]
  },
  {
   "cell_type": "markdown",
   "metadata": {
    "ein.tags": "worksheet-0",
    "slideshow": {
     "slide_type": "-"
    }
   },
   "source": [
    "Si possono quindi costruire delle funzioni per la nuova classe in modo da poterle chiamare con delle _funzioni generiche_: in R, funzioni come `print` o `summary` chiamano una funzione specifica in base al tipo dell'oggetto in questione."
   ]
  },
  {
   "cell_type": "code",
   "execution_count": 37,
   "metadata": {
    "autoscroll": false,
    "ein.hycell": false,
    "ein.tags": "worksheet-0",
    "slideshow": {
     "slide_type": "-"
    }
   },
   "outputs": [
    {
     "data": {
      "text/plain": [
       "                   [,1]\n",
       "Intercept     1.8559975\n",
       "Sepal.Width   0.6508372\n",
       "Petal.Length  0.7091320\n",
       "Petal.Width  -0.5564827"
      ]
     },
     "metadata": {},
     "output_type": "display_data"
    }
   ],
   "source": [
    "## see help(print) for args name\n",
    "print.reg <- function(x, ...) {\n",
    "  print(x$coefficients, ...)\n",
    "}\n",
    "mod"
   ]
  },
  {
   "cell_type": "code",
   "execution_count": 38,
   "metadata": {
    "autoscroll": false,
    "ein.hycell": false,
    "ein.tags": "worksheet-0",
    "slideshow": {
     "slide_type": "-"
    }
   },
   "outputs": [
    {
     "data": {
      "text/html": [
       "<table>\n",
       "<thead><tr><th></th><th scope=col></th><th scope=col>st.err</th><th scope=col></th><th scope=col></th></tr></thead>\n",
       "<tbody>\n",
       "\t<tr><th scope=row>Intercept</th><td> 1.8559975  </td><td> 14.84117   </td><td> 0.125057362</td><td>0.9006502   </td></tr>\n",
       "\t<tr><th scope=row>Sepal.Width</th><td> 0.6508372  </td><td>141.52539   </td><td> 0.004598731</td><td>0.9963370   </td></tr>\n",
       "\t<tr><th scope=row>Petal.Length</th><td> 0.7091320  </td><td>255.53624   </td><td> 0.002775074</td><td>0.9977896   </td></tr>\n",
       "\t<tr><th scope=row>Petal.Width</th><td>-0.5564827  </td><td> 29.91287   </td><td>-0.018603452</td><td>0.9851828   </td></tr>\n",
       "</tbody>\n",
       "</table>\n"
      ],
      "text/latex": [
       "\\begin{tabular}{r|llll}\n",
       "  &  & st.err &  & \\\\\n",
       "\\hline\n",
       "\tIntercept &  1.8559975   &  14.84117    &  0.125057362 & 0.9006502   \\\\\n",
       "\tSepal.Width &  0.6508372   & 141.52539    &  0.004598731 & 0.9963370   \\\\\n",
       "\tPetal.Length &  0.7091320   & 255.53624    &  0.002775074 & 0.9977896   \\\\\n",
       "\tPetal.Width & -0.5564827   &  29.91287    & -0.018603452 & 0.9851828   \\\\\n",
       "\\end{tabular}\n"
      ],
      "text/plain": [
       "                        st.err                          \n",
       "Intercept     1.8559975  14.84117  0.125057362 0.9006502\n",
       "Sepal.Width   0.6508372 141.52539  0.004598731 0.9963370\n",
       "Petal.Length  0.7091320 255.53624  0.002775074 0.9977896\n",
       "Petal.Width  -0.5564827  29.91287 -0.018603452 0.9851828"
      ]
     },
     "metadata": {},
     "output_type": "display_data"
    }
   ],
   "source": [
    "summary.reg <- function(object, ...) {\n",
    "  ste <- diag(object$covariance)\n",
    "  tval <- object$coefficients / ste  # Wald test\n",
    "  pval <- 2 * pt(-abs(tval), object$df)\n",
    "  cbind(coef=object$coefficients,\n",
    "        st.err=ste,\n",
    "        t=tval,\n",
    "        pval=pval)\n",
    "}\n",
    "summary(mod)"
   ]
  }
 ],
 "metadata": {
  "kernelspec": {
   "display_name": "R",
   "language": "R",
   "name": "ir"
  },
  "name": "Untitled.ipynb"
 },
 "nbformat": 4,
 "nbformat_minor": 2
}
